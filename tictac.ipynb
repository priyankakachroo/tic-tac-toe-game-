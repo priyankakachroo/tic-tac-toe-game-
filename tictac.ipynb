{
 "cells": [
  {
   "cell_type": "markdown",
   "metadata": {},
   "source": [
    "# TIC TAC TOE game "
   ]
  },
  {
   "cell_type": "markdown",
   "metadata": {},
   "source": [
    "**It is a game in which two players alternately put Xs and Os in compartments of a figure formed by two vertical lines crossing two horizontal lines and each tries to get a row of three Xs or three Os before the opponent does**"
   ]
  },
  {
   "cell_type": "code",
   "execution_count": 1,
   "metadata": {},
   "outputs": [],
   "source": [
    "#---global variables-----#\n",
    "game_still_going = True\n",
    "winner = None\n",
    "current_player = \"X\"\n",
    "\n",
    "#Make and display the board\n",
    "board = [\"-\", \"-\", \"-\",\n",
    "         \"-\", \"-\", \"-\",\n",
    "         \"-\", \"-\", \"-\"]"
   ]
  },
  {
   "cell_type": "code",
   "execution_count": 2,
   "metadata": {},
   "outputs": [],
   "source": [
    "#function for displaying board\n",
    "def display_board():\n",
    "    \n",
    "    print(board[0] + \"|\" + board[1] + \"|\" + board[2])\n",
    "    \n",
    "    print(board[3] + \"|\" + board[4] + \"|\" + board[5])\n",
    "    \n",
    "    print(board[6] + \"|\" + board[7] + \"|\" + board[8])\n",
    "    "
   ]
  },
  {
   "cell_type": "code",
   "execution_count": 3,
   "metadata": {},
   "outputs": [
    {
     "name": "stdout",
     "output_type": "stream",
     "text": [
      "-|-|-\n",
      "-|-|-\n",
      "-|-|-\n"
     ]
    }
   ],
   "source": [
    "display_board()"
   ]
  },
  {
   "cell_type": "code",
   "execution_count": 4,
   "metadata": {},
   "outputs": [],
   "source": [
    "#play the game\n",
    "def play_game():\n",
    "    display_board()\n",
    "    \n",
    "    #while game is still going\n",
    "    while game_still_going:\n",
    "        \n",
    "        #handle single turn of arbitraty player\n",
    "        handle_turn(current_player)\n",
    "        \n",
    "        #if game is ended\n",
    "        check_if_game_over()\n",
    "        \n",
    "        #flipü to the other player\n",
    "        flip_player()\n",
    "        \n",
    "        \n",
    "        #game ended\n",
    "        if winner == \"X\" or winner == \"O\":\n",
    "            print(winner + \"won.\")\n",
    "        elif winner == None:\n",
    "            print(\"tie.\")\n",
    "        \n",
    "        \n",
    "        \n",
    "     "
   ]
  },
  {
   "cell_type": "code",
   "execution_count": null,
   "metadata": {},
   "outputs": [],
   "source": []
  },
  {
   "cell_type": "code",
   "execution_count": 5,
   "metadata": {},
   "outputs": [],
   "source": [
    "def handle_turn(player):\n",
    "    print(player + \"'s turn.\")\n",
    "    position = input(\"Choose a position from 1-9: \")\n",
    "    # Whatever the user inputs, make sure it is a valid input, and the spot is open\n",
    "    valid = False\n",
    "    while not valid:\n",
    "        while position not in [\"1\", \"2\", \"3\", \"4\", \"5\", \"6\", \"7\", \"8\", \"9\"]:\n",
    "             position = input(\"Choose a position from 1-9: \")\n",
    "        # Make sure the input is valid\n",
    "        position = int(position) - 1\n",
    "            \n",
    "        # Then also make sure the spot is available on the board\n",
    "        if board[position] == \"-\":\n",
    "            valid = True\n",
    "        else:\n",
    "            print(\"You can't go there. Go again.\")\n",
    "    \n",
    "    # Put the game piece on the board\n",
    "    board[position] = player\n",
    "\n",
    "    # Show the game board\n",
    "    display_board()\n",
    "\n",
    "\n",
    " "
   ]
  },
  {
   "cell_type": "code",
   "execution_count": 6,
   "metadata": {},
   "outputs": [],
   "source": [
    "def check_if_game_over():\n",
    "    check_if_win()\n",
    "    check_if_tie()\n",
    "    "
   ]
  },
  {
   "cell_type": "code",
   "execution_count": 7,
   "metadata": {},
   "outputs": [],
   "source": [
    "def check_if_win():\n",
    "    \n",
    "    global winner\n",
    "    \n",
    "    row_winner = check_rows()\n",
    "    column_winner = check_columns()\n",
    "    diagonal_winner = check_diagonals()\n",
    "    \n",
    "    if row_winner:\n",
    "        winner =row_winner\n",
    "    elif column_winner:\n",
    "        winner = column_winner\n",
    "    elif diagonal_winner:\n",
    "        winner = diagonal_winner\n",
    "    else:\n",
    "        winner = None\n",
    "    return"
   ]
  },
  {
   "cell_type": "code",
   "execution_count": 8,
   "metadata": {},
   "outputs": [],
   "source": [
    "def check_rows():\n",
    "    global game_still_going \n",
    "    # Check if any of the rows have all the same value (and is not empty)\n",
    "    row_1 = board[0] == board[1] == board[2] != \"-\"\n",
    "    row_2 = board[3] == board[4] == board[5] != \"-\"\n",
    "    row_3 = board[6] == board[7] == board[8] != \"-\"\n",
    "    \n",
    "    #if any row has match then that will win\n",
    "    # If any row does have a match, flag that there is a win\n",
    "    if row_1 or row_2 or row_3:\n",
    "        \n",
    "        game_still_going = False\n",
    "    # Return the winner\n",
    "    if row_1:\n",
    "        return board[0] \n",
    "    elif row_2:\n",
    "        return board[3] \n",
    "    elif row_3:\n",
    "        return board[6] \n",
    "    # Or return None if there was no winner\n",
    "    else:\n",
    "        return None\n",
    "    return"
   ]
  },
  {
   "cell_type": "code",
   "execution_count": 9,
   "metadata": {},
   "outputs": [],
   "source": [
    "def check_columns():\n",
    "    # Set global variables\n",
    "    global game_still_going\n",
    "    # Check if any of the columns have all the same value (and is not empty)\n",
    "    column_1 = board[0] == board[3] == board[6] != \"-\"\n",
    "    column_2 = board[1] == board[4] == board[7] != \"-\"\n",
    "    column_3 = board[2] == board[5] == board[8] != \"-\"\n",
    "    # If any row does have a match, flag that there is a win\n",
    "    if column_1 or column_2 or column_3:\n",
    "        game_still_going = False\n",
    "    # Return the winner\n",
    "    if column_1:\n",
    "        \n",
    "        return board[0] \n",
    "    elif column_2:\n",
    "        return board[1] \n",
    "    elif column_3:\n",
    "        return board[2] \n",
    "    # Or return None if there was no winner\n",
    "    else:\n",
    "        return None\n",
    "    return"
   ]
  },
  {
   "cell_type": "code",
   "execution_count": 10,
   "metadata": {},
   "outputs": [],
   "source": [
    "def check_diagonals():\n",
    "    # Set global variables\n",
    "    global game_still_going\n",
    "    # Check if any of the columns have all the same value (and is not empty)\n",
    "    diagonal_1 = board[0] == board[4] == board[8] != \"-\"\n",
    "    diagonal_2 = board[2] == board[4] == board[6] != \"-\"\n",
    "    # If any row does have a match, flag that there is a win\n",
    "    if diagonal_1 or diagonal_2:\n",
    "        game_still_going = False\n",
    "    # Return the winner\n",
    "    if diagonal_1:\n",
    "        return board[0] \n",
    "    elif diagonal_2:\n",
    "        return board[2]\n",
    "    # Or return None if there was no winner\n",
    "    else:\n",
    "        return None\n",
    "    return"
   ]
  },
  {
   "cell_type": "code",
   "execution_count": 11,
   "metadata": {},
   "outputs": [],
   "source": [
    "\n",
    "def check_if_tie():\n",
    "     # Set global variables\n",
    "    global game_still_going\n",
    "    # If board is full\n",
    "    if \"-\" not in board:\n",
    "        game_still_going = False\n",
    "    return True\n",
    "  "
   ]
  },
  {
   "cell_type": "code",
   "execution_count": 12,
   "metadata": {},
   "outputs": [],
   "source": [
    "def flip_player():\n",
    "    # Global variables we need\n",
    "    global current_player\n",
    "    # If the current player was X, make it O\n",
    "    if current_player == \"X\":\n",
    "        current_player = \"O\"\n",
    "  # Or if the current player was O, make it X\n",
    "    elif current_player == \"O\":\n",
    "        current_player = \"X\"\n",
    "    return"
   ]
  },
  {
   "cell_type": "code",
   "execution_count": 13,
   "metadata": {},
   "outputs": [
    {
     "name": "stdout",
     "output_type": "stream",
     "text": [
      "-|-|-\n",
      "-|-|-\n",
      "-|-|-\n",
      "X's turn.\n",
      "Choose a position from 1-9: 1\n",
      "X|-|-\n",
      "-|-|-\n",
      "-|-|-\n",
      "tie.\n",
      "O's turn.\n",
      "Choose a position from 1-9: 2\n",
      "X|O|-\n",
      "-|-|-\n",
      "-|-|-\n",
      "tie.\n",
      "X's turn.\n",
      "Choose a position from 1-9: 5\n",
      "X|O|-\n",
      "-|X|-\n",
      "-|-|-\n",
      "tie.\n",
      "O's turn.\n",
      "Choose a position from 1-9: 9\n",
      "X|O|-\n",
      "-|X|-\n",
      "-|-|O\n",
      "tie.\n",
      "X's turn.\n",
      "Choose a position from 1-9: 4\n",
      "X|O|-\n",
      "X|X|-\n",
      "-|-|O\n",
      "tie.\n",
      "O's turn.\n",
      "Choose a position from 1-9: 6\n",
      "X|O|-\n",
      "X|X|O\n",
      "-|-|O\n",
      "tie.\n",
      "X's turn.\n",
      "Choose a position from 1-9: 7\n",
      "X|O|-\n",
      "X|X|O\n",
      "X|-|O\n",
      "Xwon.\n"
     ]
    }
   ],
   "source": [
    "play_game()\n",
    "\n"
   ]
  },
  {
   "cell_type": "markdown",
   "metadata": {},
   "source": [
    "### "
   ]
  },
  {
   "cell_type": "code",
   "execution_count": null,
   "metadata": {},
   "outputs": [],
   "source": []
  }
 ],
 "metadata": {
  "kernelspec": {
   "display_name": "Python 3",
   "language": "python",
   "name": "python3"
  },
  "language_info": {
   "codemirror_mode": {
    "name": "ipython",
    "version": 3
   },
   "file_extension": ".py",
   "mimetype": "text/x-python",
   "name": "python",
   "nbconvert_exporter": "python",
   "pygments_lexer": "ipython3",
   "version": "3.8.5"
  }
 },
 "nbformat": 4,
 "nbformat_minor": 4
}
